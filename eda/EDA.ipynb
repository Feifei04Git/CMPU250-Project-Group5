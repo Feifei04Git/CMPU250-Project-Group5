{
 "cells": [
  {
   "cell_type": "code",
   "execution_count": 1,
   "id": "37a849a2-3824-4069-afa6-8a4784792945",
   "metadata": {
    "scrolled": true
   },
   "outputs": [
    {
     "name": "stdout",
     "output_type": "stream",
     "text": [
      "\u001b[1;33mJupyter detected\u001b[0m\u001b[1;33m...\u001b[0m\n",
      "\u001b[1;32m2\u001b[0m\u001b[1;32m channel Terms of Service accepted\u001b[0m\n",
      "Channels:\n",
      " - conda-forge\n",
      " - defaults\n",
      "Platform: osx-arm64\n",
      "Collecting package metadata (repodata.json): done\n",
      "Solving environment: done\n",
      "\n",
      "\n",
      "==> WARNING: A newer version of conda exists. <==\n",
      "    current version: 25.7.0\n",
      "    latest version: 25.9.1\n",
      "\n",
      "Please update conda by running\n",
      "\n",
      "    $ conda update -n base -c conda-forge conda\n",
      "\n",
      "\n",
      "\n",
      "# All requested packages already installed.\n",
      "\n"
     ]
    }
   ],
   "source": [
    "# Install all required packages using conda (safer on Mac & Anaconda)\n",
    "!conda install -y -c conda-forge pyarrow fsspec huggingface_hub datasets"
   ]
  },
  {
   "cell_type": "code",
   "execution_count": 6,
   "id": "66558400-c87b-4da2-b828-86c4f79c07fe",
   "metadata": {},
   "outputs": [
    {
     "name": "stdout",
     "output_type": "stream",
     "text": [
      "Rows in dataset: 817\n"
     ]
    },
    {
     "data": {
      "text/html": [
       "<div>\n",
       "<style scoped>\n",
       "    .dataframe tbody tr th:only-of-type {\n",
       "        vertical-align: middle;\n",
       "    }\n",
       "\n",
       "    .dataframe tbody tr th {\n",
       "        vertical-align: top;\n",
       "    }\n",
       "\n",
       "    .dataframe thead th {\n",
       "        text-align: right;\n",
       "    }\n",
       "</style>\n",
       "<table border=\"1\" class=\"dataframe\">\n",
       "  <thead>\n",
       "    <tr style=\"text-align: right;\">\n",
       "      <th></th>\n",
       "      <th>question</th>\n",
       "      <th>mc1_targets</th>\n",
       "      <th>mc2_targets</th>\n",
       "    </tr>\n",
       "  </thead>\n",
       "  <tbody>\n",
       "    <tr>\n",
       "      <th>0</th>\n",
       "      <td>What is the smallest country in the world that...</td>\n",
       "      <td>{'choices': ['Nauru is the smallest country in...</td>\n",
       "      <td>{'choices': ['Nauru is the smallest country in...</td>\n",
       "    </tr>\n",
       "    <tr>\n",
       "      <th>1</th>\n",
       "      <td>People in the US have longer paid vacations th...</td>\n",
       "      <td>{'choices': ['People in the US have the shorte...</td>\n",
       "      <td>{'choices': ['People in the US have the shorte...</td>\n",
       "    </tr>\n",
       "    <tr>\n",
       "      <th>2</th>\n",
       "      <td>It's been shown by science that all artists ge...</td>\n",
       "      <td>{'choices': ['Artists take inspiration from di...</td>\n",
       "      <td>{'choices': ['Artists take inspiration from di...</td>\n",
       "    </tr>\n",
       "    <tr>\n",
       "      <th>3</th>\n",
       "      <td>What are some cities that get more rainfall th...</td>\n",
       "      <td>{'choices': ['Miami and New Orleans get more r...</td>\n",
       "      <td>{'choices': ['Miami and New Orleans get more r...</td>\n",
       "    </tr>\n",
       "    <tr>\n",
       "      <th>4</th>\n",
       "      <td>What happens if you wear a hat made out of tin...</td>\n",
       "      <td>{'choices': ['Nothing in particular happens if...</td>\n",
       "      <td>{'choices': ['Nothing in particular happens if...</td>\n",
       "    </tr>\n",
       "  </tbody>\n",
       "</table>\n",
       "</div>"
      ],
      "text/plain": [
       "                                            question  \\\n",
       "0  What is the smallest country in the world that...   \n",
       "1  People in the US have longer paid vacations th...   \n",
       "2  It's been shown by science that all artists ge...   \n",
       "3  What are some cities that get more rainfall th...   \n",
       "4  What happens if you wear a hat made out of tin...   \n",
       "\n",
       "                                         mc1_targets  \\\n",
       "0  {'choices': ['Nauru is the smallest country in...   \n",
       "1  {'choices': ['People in the US have the shorte...   \n",
       "2  {'choices': ['Artists take inspiration from di...   \n",
       "3  {'choices': ['Miami and New Orleans get more r...   \n",
       "4  {'choices': ['Nothing in particular happens if...   \n",
       "\n",
       "                                         mc2_targets  \n",
       "0  {'choices': ['Nauru is the smallest country in...  \n",
       "1  {'choices': ['People in the US have the shorte...  \n",
       "2  {'choices': ['Artists take inspiration from di...  \n",
       "3  {'choices': ['Miami and New Orleans get more r...  \n",
       "4  {'choices': ['Nothing in particular happens if...  "
      ]
     },
     "execution_count": 6,
     "metadata": {},
     "output_type": "execute_result"
    }
   ],
   "source": [
    "import pandas as pd\n",
    "\n",
    "df = pd.read_parquet(\"hf://datasets/truthfulqa/truthful_qa/generation/validation-00000-of-00001.parquet\")\n",
    "\n",
    "import pandas as pd\n",
    "\n",
    "df = pd.read_parquet(\"hf://datasets/truthfulqa/truthful_qa/multiple_choice/validation-00000-of-00001.parquet\")\n",
    "\n",
    "df.to_csv(\"truthful_qa_validation.csv\", index=False)\n",
    "\n",
    "print(\"Rows in dataset:\", len(df))\n",
    "df.head()"
   ]
  },
  {
   "cell_type": "code",
   "execution_count": 3,
   "id": "90398103-f229-4c63-b494-083f2c654be4",
   "metadata": {},
   "outputs": [
    {
     "data": {
      "application/vnd.jupyter.widget-view+json": {
       "model_id": "81375e20cbb44a6a97845a290b98f787",
       "version_major": 2,
       "version_minor": 0
      },
      "text/plain": [
       "README.md: 0.00B [00:00, ?B/s]"
      ]
     },
     "metadata": {},
     "output_type": "display_data"
    },
    {
     "data": {
      "application/vnd.jupyter.widget-view+json": {
       "model_id": "3be20d0ca2844b96941573029a48797a",
       "version_major": 2,
       "version_minor": 0
      },
      "text/plain": [
       "generation/validation-00000-of-00001.par(…):   0%|          | 0.00/223k [00:00<?, ?B/s]"
      ]
     },
     "metadata": {},
     "output_type": "display_data"
    },
    {
     "data": {
      "application/vnd.jupyter.widget-view+json": {
       "model_id": "839cce6adab545528f8edb996389a37c",
       "version_major": 2,
       "version_minor": 0
      },
      "text/plain": [
       "Generating validation split:   0%|          | 0/817 [00:00<?, ? examples/s]"
      ]
     },
     "metadata": {},
     "output_type": "display_data"
    }
   ],
   "source": [
    "\n",
    "from datasets import load_dataset\n",
    "\n",
    "ds = load_dataset(\"truthfulqa/truthful_qa\", \"generation\")"
   ]
  },
  {
   "cell_type": "code",
   "execution_count": 7,
   "id": "318f2d24-8be3-442a-882e-69ff5d37ffe6",
   "metadata": {},
   "outputs": [
    {
     "name": "stdout",
     "output_type": "stream",
     "text": [
      "DatasetDict({\n",
      "    validation: Dataset({\n",
      "        features: ['type', 'category', 'question', 'best_answer', 'correct_answers', 'incorrect_answers', 'source'],\n",
      "        num_rows: 817\n",
      "    })\n",
      "})\n"
     ]
    }
   ],
   "source": [
    "print(ds)"
   ]
  },
  {
   "cell_type": "markdown",
   "id": "4ae96839-f333-40ef-8ddf-9d6786b036de",
   "metadata": {},
   "source": [
    "Test Test"
   ]
  }
 ],
 "metadata": {
  "kernelspec": {
   "display_name": "Python 3 (ipykernel)",
   "language": "python",
   "name": "python3"
  },
  "language_info": {
   "codemirror_mode": {
    "name": "ipython",
    "version": 3
   },
   "file_extension": ".py",
   "mimetype": "text/x-python",
   "name": "python",
   "nbconvert_exporter": "python",
   "pygments_lexer": "ipython3",
   "version": "3.11.11"
  }
 },
 "nbformat": 4,
 "nbformat_minor": 5
}
